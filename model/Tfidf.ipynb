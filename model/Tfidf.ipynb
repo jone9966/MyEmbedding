{
 "cells": [
  {
   "cell_type": "code",
   "execution_count": 1,
   "id": "447dd43a",
   "metadata": {},
   "outputs": [],
   "source": [
    "import numpy as np\n",
    "import pandas as pd\n",
    "import tensorflow as tf"
   ]
  },
  {
   "cell_type": "code",
   "execution_count": 2,
   "id": "5e06a7b5",
   "metadata": {},
   "outputs": [],
   "source": [
    "pd.set_option('display.max_columns', None)\n",
    "pd.set_option('display.max_rows', None)\n",
    "pd.set_option('display.max_colwidth', 50)\n",
    "pd.set_option('display.width', 1000)"
   ]
  },
  {
   "cell_type": "code",
   "execution_count": 5,
   "id": "949a2db7",
   "metadata": {},
   "outputs": [
    {
     "data": {
      "text/html": [
       "<div>\n",
       "<style scoped>\n",
       "    .dataframe tbody tr th:only-of-type {\n",
       "        vertical-align: middle;\n",
       "    }\n",
       "\n",
       "    .dataframe tbody tr th {\n",
       "        vertical-align: top;\n",
       "    }\n",
       "\n",
       "    .dataframe thead th {\n",
       "        text-align: right;\n",
       "    }\n",
       "</style>\n",
       "<table border=\"1\" class=\"dataframe\">\n",
       "  <thead>\n",
       "    <tr style=\"text-align: right;\">\n",
       "      <th></th>\n",
       "      <th>text</th>\n",
       "      <th>label</th>\n",
       "    </tr>\n",
       "  </thead>\n",
       "  <tbody>\n",
       "    <tr>\n",
       "      <th>0</th>\n",
       "      <td>앵커 애틀랜타 총격 사건 으로 미국시민 들 은 또한 번 거리 로 나왔습니다 슬프고 ...</td>\n",
       "      <td>international</td>\n",
       "    </tr>\n",
       "    <tr>\n",
       "      <th>1</th>\n",
       "      <td>앵커 이번 사건 에서 희생 된한 인명 의 신원 이 사흘 만에 공개 됐습니다 유가족 ...</td>\n",
       "      <td>international</td>\n",
       "    </tr>\n",
       "    <tr>\n",
       "      <th>2</th>\n",
       "      <td>일오 전시 부터 버팀목 자금 을 통해 짝수 소 상공 인들 로부터 버팀목 자금 신청 ...</td>\n",
       "      <td>economy</td>\n",
       "    </tr>\n",
       "    <tr>\n",
       "      <th>3</th>\n",
       "      <td>일 오후 서울 황학동 중앙시장 중 고 가전제품 판매점 에 진열 된에서 문재인 대통령...</td>\n",
       "      <td>economy</td>\n",
       "    </tr>\n",
       "    <tr>\n",
       "      <th>4</th>\n",
       "      <td>실종 주 째 고양시 발달장애 인 점퍼 한 강서 발견 경기 고양시 행주산성 둘레길 에...</td>\n",
       "      <td>society</td>\n",
       "    </tr>\n",
       "  </tbody>\n",
       "</table>\n",
       "</div>"
      ],
      "text/plain": [
       "                                                text          label\n",
       "0  앵커 애틀랜타 총격 사건 으로 미국시민 들 은 또한 번 거리 로 나왔습니다 슬프고 ...  international\n",
       "1  앵커 이번 사건 에서 희생 된한 인명 의 신원 이 사흘 만에 공개 됐습니다 유가족 ...  international\n",
       "2  일오 전시 부터 버팀목 자금 을 통해 짝수 소 상공 인들 로부터 버팀목 자금 신청 ...        economy\n",
       "3  일 오후 서울 황학동 중앙시장 중 고 가전제품 판매점 에 진열 된에서 문재인 대통령...        economy\n",
       "4  실종 주 째 고양시 발달장애 인 점퍼 한 강서 발견 경기 고양시 행주산성 둘레길 에...        society"
      ]
     },
     "execution_count": 5,
     "metadata": {},
     "output_type": "execute_result"
    }
   ],
   "source": [
    "df = pd.read_csv(\"/home/jone/NLP/Dataset/train_category.csv\")\n",
    "df.head()"
   ]
  },
  {
   "cell_type": "code",
   "execution_count": 16,
   "id": "debf8ad5",
   "metadata": {},
   "outputs": [
    {
     "name": "stdout",
     "output_type": "stream",
     "text": [
      "{'society': 1, 'politics': 2, 'international': 3, 'economy': 4, 'sport': 5, 'entertain': 6, 'it': 7, 'culture': 8}\n"
     ]
    }
   ],
   "source": [
    "from tensorflow.keras.preprocessing.text import Tokenizer\n",
    "\n",
    "label_encoder = Tokenizer()\n",
    "label_encoder.fit_on_texts(df['label'])\n",
    "label = np.array(label_encoder.texts_to_sequences(df['label'])) - 1\n",
    "category = label_encoder.word_index\n",
    "print(category)"
   ]
  },
  {
   "cell_type": "code",
   "execution_count": 17,
   "id": "70f1e569",
   "metadata": {},
   "outputs": [
    {
     "name": "stdout",
     "output_type": "stream",
     "text": [
      "(2196, 53371)\n"
     ]
    }
   ],
   "source": [
    "from tensorflow.keras.preprocessing.text import Tokenizer\n",
    "\n",
    "tokenizer = Tokenizer(oov_token='<OOV>')\n",
    "tokenizer.fit_on_texts(df['text'])\n",
    "vocab = tokenizer.word_index\n",
    "vocab_size = len(vocab) + 1\n",
    "tfidfm = tokenizer.texts_to_matrix(df['text'], mode='tfidf')\n",
    "print(tfidfm.shape)"
   ]
  },
  {
   "cell_type": "code",
   "execution_count": 18,
   "id": "f2759222",
   "metadata": {},
   "outputs": [
    {
     "name": "stdout",
     "output_type": "stream",
     "text": [
      "(1756, 53371) (440, 53371) (1756, 1) (440, 1)\n"
     ]
    }
   ],
   "source": [
    "from sklearn.model_selection import train_test_split\n",
    "\n",
    "X_train, X_test, Y_train, Y_test = train_test_split(tfidfm, label, test_size=0.2, random_state=0)\n",
    "print(X_train.shape, X_test.shape, Y_train.shape, Y_test.shape)"
   ]
  },
  {
   "cell_type": "code",
   "execution_count": 19,
   "id": "f57b204e",
   "metadata": {},
   "outputs": [
    {
     "name": "stdout",
     "output_type": "stream",
     "text": [
      "Model: \"sequential_2\"\n",
      "_________________________________________________________________\n",
      "Layer (type)                 Output Shape              Param #   \n",
      "=================================================================\n",
      "dense_4 (Dense)              (None, 128)               6831616   \n",
      "_________________________________________________________________\n",
      "dense_5 (Dense)              (None, 8)                 1032      \n",
      "=================================================================\n",
      "Total params: 6,832,648\n",
      "Trainable params: 6,832,648\n",
      "Non-trainable params: 0\n",
      "_________________________________________________________________\n"
     ]
    }
   ],
   "source": [
    "model_cls = tf.keras.Sequential([\n",
    "    tf.keras.layers.Dense(128, activation='relu', input_shape=(vocab_size,)),\n",
    "    tf.keras.layers.Dense(len(category), activation='softmax')\n",
    "])\n",
    "\n",
    "model_cls.compile(loss='sparse_categorical_crossentropy',\n",
    "                 optimizer='adam',\n",
    "                 metrics=['accuracy'])\n",
    "model_cls.summary()"
   ]
  },
  {
   "cell_type": "code",
   "execution_count": 23,
   "id": "2d1f9911",
   "metadata": {},
   "outputs": [
    {
     "name": "stdout",
     "output_type": "stream",
     "text": [
      "Epoch 1/10\n",
      "14/14 [==============================] - 3s 236ms/step - loss: 5.3188e-04 - accuracy: 1.0000 - val_loss: 0.5053 - val_accuracy: 0.8818\n",
      "Epoch 2/10\n",
      "14/14 [==============================] - 1s 94ms/step - loss: 4.7248e-04 - accuracy: 1.0000 - val_loss: 0.5051 - val_accuracy: 0.8841\n",
      "Epoch 3/10\n",
      "14/14 [==============================] - 1s 92ms/step - loss: 4.2095e-04 - accuracy: 1.0000 - val_loss: 0.5047 - val_accuracy: 0.8841\n",
      "Epoch 4/10\n",
      "14/14 [==============================] - 1s 106ms/step - loss: 3.7492e-04 - accuracy: 1.0000 - val_loss: 0.5047 - val_accuracy: 0.8864\n",
      "Epoch 5/10\n",
      "14/14 [==============================] - 1s 85ms/step - loss: 3.3487e-04 - accuracy: 1.0000 - val_loss: 0.5047 - val_accuracy: 0.8864\n",
      "Epoch 6/10\n",
      "14/14 [==============================] - 1s 82ms/step - loss: 3.0484e-04 - accuracy: 1.0000 - val_loss: 0.5048 - val_accuracy: 0.8864\n",
      "Epoch 7/10\n",
      "14/14 [==============================] - 1s 97ms/step - loss: 2.7124e-04 - accuracy: 1.0000 - val_loss: 0.5049 - val_accuracy: 0.8864\n",
      "Epoch 8/10\n",
      "14/14 [==============================] - 1s 78ms/step - loss: 2.4845e-04 - accuracy: 1.0000 - val_loss: 0.5049 - val_accuracy: 0.8864\n",
      "Epoch 9/10\n",
      "14/14 [==============================] - 1s 79ms/step - loss: 2.2795e-04 - accuracy: 1.0000 - val_loss: 0.5050 - val_accuracy: 0.8864\n",
      "Epoch 10/10\n",
      "14/14 [==============================] - 1s 82ms/step - loss: 2.0806e-04 - accuracy: 1.0000 - val_loss: 0.5050 - val_accuracy: 0.8841\n"
     ]
    }
   ],
   "source": [
    "history = model_cls.fit(X_train, Y_train, epochs=10, batch_size=128, validation_data=(X_test, Y_test))"
   ]
  },
  {
   "cell_type": "code",
   "execution_count": 12,
   "id": "3dc6dc61",
   "metadata": {},
   "outputs": [
    {
     "data": {
      "text/html": [
       "<div>\n",
       "<style scoped>\n",
       "    .dataframe tbody tr th:only-of-type {\n",
       "        vertical-align: middle;\n",
       "    }\n",
       "\n",
       "    .dataframe tbody tr th {\n",
       "        vertical-align: top;\n",
       "    }\n",
       "\n",
       "    .dataframe thead th {\n",
       "        text-align: right;\n",
       "    }\n",
       "</style>\n",
       "<table border=\"1\" class=\"dataframe\">\n",
       "  <thead>\n",
       "    <tr style=\"text-align: right;\">\n",
       "      <th></th>\n",
       "      <th>text</th>\n",
       "      <th>label</th>\n",
       "    </tr>\n",
       "  </thead>\n",
       "  <tbody>\n",
       "    <tr>\n",
       "      <th>0</th>\n",
       "      <td>후배 여배우 성폭행 의혹 에 휘 말린 배우 배 진웅 측 이 허위 사실 유포 에 대한...</td>\n",
       "      <td>entertain</td>\n",
       "    </tr>\n",
       "    <tr>\n",
       "      <th>1</th>\n",
       "      <td>조이 뉴스 정명화 기자 배우 배 진웅 이 동료 여배우 성추행 혐의 를 부인 했다 배...</td>\n",
       "      <td>entertain</td>\n",
       "    </tr>\n",
       "    <tr>\n",
       "      <th>2</th>\n",
       "      <td>일 서 울 영등포구 국민은행 여의도 지점 스마트 딜링룸 전광판 에 코스피지수 가 전...</td>\n",
       "      <td>economy</td>\n",
       "    </tr>\n",
       "    <tr>\n",
       "      <th>3</th>\n",
       "      <td>정부 가 일 신종 코로나바이러스 감염증 코로나 확산 에 따른 의료 현 장인 력 부족...</td>\n",
       "      <td>society</td>\n",
       "    </tr>\n",
       "    <tr>\n",
       "      <th>4</th>\n",
       "      <td>정부 가일 부터 코로나 로 피해 를 입은소 상공 인 과 고용 취약 계층 에 버팀목 ...</td>\n",
       "      <td>society</td>\n",
       "    </tr>\n",
       "  </tbody>\n",
       "</table>\n",
       "</div>"
      ],
      "text/plain": [
       "                                                text      label\n",
       "0  후배 여배우 성폭행 의혹 에 휘 말린 배우 배 진웅 측 이 허위 사실 유포 에 대한...  entertain\n",
       "1  조이 뉴스 정명화 기자 배우 배 진웅 이 동료 여배우 성추행 혐의 를 부인 했다 배...  entertain\n",
       "2  일 서 울 영등포구 국민은행 여의도 지점 스마트 딜링룸 전광판 에 코스피지수 가 전...    economy\n",
       "3  정부 가 일 신종 코로나바이러스 감염증 코로나 확산 에 따른 의료 현 장인 력 부족...    society\n",
       "4  정부 가일 부터 코로나 로 피해 를 입은소 상공 인 과 고용 취약 계층 에 버팀목 ...    society"
      ]
     },
     "execution_count": 12,
     "metadata": {},
     "output_type": "execute_result"
    }
   ],
   "source": [
    "df_test = pd.read_csv(\"/Users/zum/Dev/Dataset/test_category.csv\")\n",
    "df_test.head()"
   ]
  },
  {
   "cell_type": "code",
   "execution_count": 13,
   "id": "b9a20eac",
   "metadata": {},
   "outputs": [
    {
     "name": "stdout",
     "output_type": "stream",
     "text": [
      "(942, 53371) (942, 1)\n"
     ]
    }
   ],
   "source": [
    "test_tfidfm = tokenizer.texts_to_matrix(df_test['text'], mode='tfidf')\n",
    "test_label = np.array(label_encoder.texts_to_sequences(df_test['label']))\n",
    "print(test_tfidfm.shape, test_label.shape)"
   ]
  },
  {
   "cell_type": "code",
   "execution_count": 14,
   "id": "51a73651",
   "metadata": {},
   "outputs": [
    {
     "name": "stdout",
     "output_type": "stream",
     "text": [
      "30/30 [==============================] - 0s 16ms/step - loss: 0.4923 - accuracy: 0.8588\n"
     ]
    },
    {
     "data": {
      "text/plain": [
       "[0.4922669529914856, 0.85881108045578]"
      ]
     },
     "execution_count": 14,
     "metadata": {},
     "output_type": "execute_result"
    }
   ],
   "source": [
    "model_cls.evaluate(test_tfidfm, test_label)"
   ]
  },
  {
   "cell_type": "code",
   "execution_count": 16,
   "id": "c3606e1e",
   "metadata": {},
   "outputs": [
    {
     "name": "stdout",
     "output_type": "stream",
     "text": [
      "30/30 [==============================] - 0s 14ms/step\n",
      "                                                  text          label           pred\n",
      "12   온라인 서 이재용 옥중 특별 회견 문 일파 만 파 삼성 전혀 사실 아냐 변호인 통해...        economy        society\n",
      "34   영화 미나리 정이 삭 감독 이 미국 감독 조합 이 수여 하 는 감독 상 후보 에 올...        culture  international\n",
      "35   이준석 전 국민 의 힘 최고 위원 은 직장인 익명 커뮤니티 블라인드 에 부러우면 이...       politics        economy\n",
      "36   화성시 가 봄철 미세먼지 계절 관리제 기간 을 맞아이 달말까지 농촌 지역 폐기물 불...       politics        society\n",
      "41   경 기 파주시 는 지난 일 부터 오는 월말 까지 일정 으로 부동산 거래 가격 거짓 ...        society        economy\n",
      "46   게임 업계 의 연 봉인 상 바람 이 이어지고있는가운 데크 래 프톤 도 개발 직 군 ...             it        economy\n",
      "49   앙겔라 메르켈 독일 총리 가 지난 일 현 지 시간 백신 생산 업체 및 주 총리 들 ...        economy  international\n",
      "53   공 수 처 장 지 명일 에도 참모 들 에 확실히 해결 하 라 문재인 대통령 이 지난...       politics        society\n",
      "55   우리나라 의 유기발광다이오드 디스플레이 가 올해 수출 억 달러 를 목표 로 하고있다...        economy             it\n",
      "56   산업 통상 자원부 는 성윤 모 장관 이일오 전시 서울 마 곡동 디스플레이 오프라인 ...        economy             it\n",
      "66   입국 후 코로나 검사 출국 일전 기준 음성 검사 서 제출 해야 뉴질랜드 크라이스트처...  international        society\n",
      "67   신 창재 교보 생명 회장 이 올 해인 의 공동 대표 체제 를 가동 한 다 각 각의 ...        economy             it\n",
      "81   세종대 학교 사업 단 호스 피 탈리 티 기술 경 영 트랙 은 최근 산학 협력 협약 ...       politics        society\n",
      "88   편의점 와인 예약 구매 서비스 이용자 가 모바일 쇼핑 에 익숙한 대보다 중장 년층 ...        economy             it\n",
      "97   중국 정부 는 중국 은 미국 이 아니라 자기 자신 을 뛰어넘어 더 나은 나라 가 되...  international       politics\n",
      "98   조 바이든 미국 대통령 이다 음달 말 기후 정상 회의 에 문재인 대통령 을 비롯 한...  international       politics\n",
      "106  유플러스 가 최신 광 전송 기술 을 적용 한 기업 전용 전국 백본망 을 신규 구축 ...        economy             it\n",
      "107  그것 이 알고싶다 의 정인 이 사건 후속 편이 또다시 분노 의 물결 을 만들었다 제...      entertain        society\n",
      "112  혁신 기업 이 미국 행택 하 는 판 에 반 기업 드라이브 정권 자격 없어 국민 의 ...        economy       politics\n",
      "115  여자배구 선수 이재영 이다 영 쌍둥이 자매 에 대 한 학교폭력 학폭 논란 이 여전히...          sport      entertain\n",
      "125  세종시 다솜 리 생활권 에 스마트 시티 기술 과 헬 스케 어 기술 이결 합 한 스마...       politics        society\n",
      "127  사회 탐구 스타 강사 인 이지영 씨 가 일자 신의 통장 잔고 를 공개 했다 이씨 는...        society        economy\n",
      "134  이글 을 쓴 송 기 균 시민기자 는 집값 정상화 시민행동 대표 이자 송 기 균 경 ...        society       politics\n",
      "135  최근 소액 투자자 들 의 관심 이 집중 됐던 비디오게임 소 매체 인 게임스톱 게임스...  international        economy\n",
      "147  영국 런던 증시 의 지수 는 전 거래 일종 가 대비 상승 한 로 거래 를 마쳤고 프...  international        economy\n",
      "148  세종시 에 있는 행정안전부 별관 에서 신종 코로나바이러스 감염증 코로나 확 진자 가...       politics        society\n",
      "154  식품의약품안전처 가 이른바 알몸 김치 사태 와 관련 해 한국 은 중국 의 속국 이라...        society       politics\n",
      "163  예   쓰 읍 오늘 은 대선 얘기 좀 해보겠 슴 다 이재명 지사 가 대선 주자 지지...        society       politics\n",
      "165  정부 가 국민 건강 증진 을 이 유로 담배 가격 인 상등 을 추진 하 는 방안 을 ...        society        economy\n",
      "180  윤석열 검찰총장 측 이완 규 변호사 가 일대 통령 을 상대로 소송 을 제기 했다고 ...       politics        society\n",
      "190  김진성 기자 청도군 은 오는 일 부터 전국 최초 로 국방부 유해 발굴 감 식단 과 ...       politics        society\n",
      "191  정부 와 더불어 민주당 이 코로나 백 신접 종이 원활하게 이뤄질수있도록 백 신유 급...        society       politics\n",
      "196  미나리 감독 정이 삭 가 누적 관객수 만 명 을 돌파 한가운데 전체 박스오피스 부동...        culture      entertain\n",
      "197  공개 된 뮤직비디오 는 음악감독 에밀 모 세리 가 제이콥 의 기도 를 연주 하 는 ...        culture      entertain\n",
      "198  연기 인 생년 간 한국 을 주무 대로 활동 했던세의 노장 윤여정 이 미나리 로 할리...        culture  international\n",
      "202  코로나바이러스 감염증 중앙 재난 안전 대책 본부 본부장 국무총리 정세균 가일 본부장...        society        economy\n",
      "209  미국 시사지 타임 이일 현 지시 간 발표 된 골든글로브 시상식 후보 에서 미나리 가...        culture  international\n",
      "211  아이 김향기 류현경 염혜 란 이 추운 겨울 가슴 따뜻해지는 위로 와 치유 로 대중 ...        culture      entertain\n",
      "215  공사 는 지난 일이 같은 보도자료 를 발표 했다 년 이후 공사 가 진행 한 공공 개...        economy        society\n",
      "217  진행 이승윤 앵커 이승민 앵커 출연 김윤서 울 대의 대 교수 아래 텍스트 는 실제 ...       politics        society\n",
      "218  타이거우즈 가 차량 전복사고 를 당 한가운데 당 시 타고 있던 제네시스 의 안전성 ...        economy  international\n",
      "233  김종민 더불어 민주당 최고 위원 은 일 윤석열 검찰총장 이 공개 적 으로 중대 범죄...       politics        society\n",
      "234  정세균 국무총리 가 윤석열 검찰총장 이 언론 인터뷰 를 통해 중 대 범죄수사 청수사...       politics        society\n",
      "247  초등생 시절 축구선수 기성용 서울 으로부터 성폭력 을 당했다고 폭로 한 후배 씨 는...          sport        society\n",
      "249  유럽 의약품 청 이 아스 트 라 제 네 카 의 코로나 백신 을 맞은 일부 접종 자 ...  international       politics\n",
      "257  드라마 조 선구 마사 가 일으킨 역사왜곡 논란 의 여파 가 방송 계 와 연예계 전반...        culture      entertain\n",
      "261  대학 수학 능력 시험 이하 수능 이 마무리 되면서 수험생 과 학부모 들 의 관심 은...        economy        society\n",
      "264  옵티머스 자산운용 측 의 이낙연 더불어 민주당 대표 사무실 복합기 임대료 지원 의혹...       politics        society\n",
      "290  울산 상공회의소 는 일 긴급 임시 의 원 총회 를 열고 특별 의 원수 를 명 으로 ...        economy       politics\n",
      "305  문재인 대통령 이일오 전설 명절 을 맞아 청와대 관저 에서 국민 명 과 영상통화 를...       politics        society\n",
      "307  코스피지수 가장 초반 을 기록 했지만 이후 하락 세로 전환 해서 선 에서 거래 되고...        economy  international\n",
      "312  배우 한예리 가 미국 아카데미 시상식 에 참석 한 다 일 소속사 사람 엔터테인먼트 ...        culture      entertain\n",
      "314                   중앙 일보 홈페이지 페이스북 친구 추가 넌 뉴스 를 찾아봐        society       politics\n",
      "337  뉴 삼 성의 명 운을가를 이재용 삼 성전 자 부회장 의 국정 농단 파기 환송 심 선...        economy        society\n",
      "355  일한국 시간 개막 하 는 미국 프로 골프 투어 클래식 에서 통산 번째 투어 대회 출...          sport        society\n",
      "357  월스트리트저널 이 기아 자동차 가 미국 조지아주 의 공장 에서 애플 카를 조립 한다...  international        economy\n",
      "358  컴퍼니 가 구충제 성분 이 버맥틴 은 신종 코로나바이러스 감염증 코로나 치료 에 사...        society        economy\n",
      "370  앵커 이번 에는 부산 개표 상황 도 알아보겠습니다 부산진구 개표 소 에나 가 있는 ...       politics        society\n",
      "374  자발 적 이라고 하지만 만약 안하겠다고 하면 나쁜 기업 으로 찍히는거잖아요 기업 한...        economy             it\n",
      "388  미국 에서 신종 코로나바이러스 감염증 코로나 고 위험 군 에 속 하 지 않는 젊은 ...        society  international\n",
      "395  서 울 뉴시스 더불어 민주당 조 응 천 의원 은 윤석열 검찰총장 직무 집행정지 를 ...       politics        society\n",
      "412  영화 미나리 감독 정이 삭 가년 미국 아카데미 시상식 청 신호 를 밝히고있다 윤여정...        culture      entertain\n",
      "428  김 윤상 아나운서 가 음주운전 혐의 로 경찰 에 입건 됐다 일 연합뉴스 에 따르면 ...      entertain        society\n",
      "430  한 국토 지 주택 공 사 직원 들 의 투기 의혹 이 제기 된 경기 시흥시 과림동 토...       politics        economy\n",
      "431  임 직원 부터 더불어 민주당 소속 시흥시 의원 의 투기 의혹 이 제기 된 경기 시흥...       politics        economy\n",
      "459  국민 의 힘 에이 어 정의당 에서 도일 더불어 민주당 남인순 의원 의 입장 표명 을...       politics        society\n",
      "473  미국해군 의 구축함 머스틴 호가 동중국해 양쯔 강하구에 접근 했다고 일 홍콩 명보 ...  international       politics\n",
      "486  아르헨티나 의 축구 영웅 디에고 마라도나 가 지난 밤 심장마비 로 별세 했습니다 브...  international          sport\n",
      "489  행정안전부 는 최근 신종 코로나바이러스 감염증 코로나 확 진자 가 수도권 지역 을 ...       politics        society\n",
      "492  우리나라 연등회 가 유네스코 인류 무형 문화유산 에 등재 됐다 이로써 한국 의 유네...        culture      entertain\n",
      "493  서울시 교육청 이 신종 코로나바이러스 감염증 코로나 극복 을 응원 하기 위해 학생 ...        society      entertain\n",
      "494  신종 코로나바이러스 감염증 코로나 확산 세 가 반복 적 으로 발생 하 면서 소 비행...  international        society\n",
      "497  미국 중앙 정보 국 이 김정남 아들 김한솔 을 데려갔다는 주장 이 제기 됐다 년월 ...  international       politics\n",
      "506  대학원생 제자 를 추행 한 혐의 로 재판 에 넘겨진 전직 세종대 영화 예술 학과 교...      entertain        society\n",
      "514  일본정부 는 올해 월말 신종 코로나바이러스 감염증 코로나 대책 으로 내년 상반기 까...  international        society\n",
      "521  사진 혜민스님 최근 예능 프로그램 에서 자택 을 공개 했다가 풀 소유 논란 에 휩싸...        society      entertain\n",
      "523  일본 에서 수도권 긴급 사태 선언 이 발효 된 첫날 인 오늘 일코 로나 신규 확 진...  international        society\n",
      "524  일본정부 가 일본군 위안부 피해자 에게 배상하 라는 한 국법 원 의 판결 을 수용 ...  international        society\n",
      "537  권 덕철 보건복지부 장관 이일 올해 월 부터 고령자 필수 의료인 력 등 을 시작 으...        economy        society\n",
      "539  광주시 의회 는 일시 의회 청사 에서 국무총리 모범 공무원 및 행정안전부 장관 주관...       politics        society\n",
      "548  금호 타이어 로고 금호 타이어 제공 재판매 및금 지사 측 과 임단 협 이 결렬 된 ...        society        economy\n",
      "553  오진우 연합인포맥스 특파원 뉴욕 유가 는 지난주 급락 에 따른 저 점 인식 에도 유...        economy  international\n",
      "554  수출입 폐기물 에 대 한 통관 전 컨테이너 개장 검사 가년 까지 수준 으로 높아지는...        society        economy\n",
      "562  퇴임 을 앞둔 강경화 외교부 장관 이일 경북 포항 에 사는 일본군 위안부 피해자 할...  international       politics\n",
      "563  사진 은 정부 세종 청사 산업 통상 자원부 원전 산업 정책 과 산업 통상 자원부 는...        economy       politics\n",
      "568  한동훈 이미 발생 한 피해 에 필요한 조치 검토 할것 유시민 노무현재단 이사장 유시...       politics        society\n",
      "569  추미애 법무부 장관 이 김학의 전 법무부 차관 의 불법 출국금지 의혹 을 수사 중 ...       politics        society\n",
      "581  과연 누가 진짜 일까 인공 지능 을 활용 한 영상편집 기술 딥 페이크 는 이제 어디...             it        society\n",
      "584  앵커 택배 노동자 들 이 과중 한 업무 에 시달리는 상황 여러 번전 해드렸는데요 일...        economy        society\n",
      "593  러시아 가 개발 한 코로나 백신 스푸트니크 가 한국 에서 생산 된다 일 타 스 통신...        society  international\n",
      "598  씨 네 큐브 가 오는 일 현 지 시 각 개최 되는 제 회 아카데미 시상식 의 주요 ...        culture      entertain\n",
      "601  학교폭력 학폭 논란 으로 배구 계 를 떠난 이재영 이다 영 자매 가 잘 못 된 부분...          sport      entertain\n",
      "603  전해철 중앙 재난 안전 대책 본 부차 장 행정안전부 장관 이 감염병 확산 방지 를 ...        economy        society\n",
      "614  조재현 에게 성폭행 을 당했다고 주장 한 여성 이 패소 후 항소 를 포기 했다 일 ...      entertain        society\n",
      "621  미국 에서 신종 코로나바이러스 감염증 코로나 의 교도소 내 집단 감염 피해 가 커지...  international        society\n",
      "657  올해 아시아 컵차 양궁 대회 가 월 광주 에서 열린다 일 광주시 에 따르면 일 가량...        society          sport\n",
      "670  이재용 삼 성 전자 부회장 이일오 후 서초구 서울 고등법원 에서 열리는 국정 농단 ...        economy        society\n",
      "673  로부터 지역 현안 해결 및 지방 언론 발전 에 기여 한 공로 로 감사패 를 수상했다...       politics        society\n",
      "678  국민 의 힘 은 일 서 울 동부 구치소 신종 코로나바이러스 감염증 코로나 집단 감염...       politics        society\n",
      "698  고 병원 성 조류인플루엔자 유행 으로만 마리 가 넘는 닭 과 오리 등 가금류 가 이...        society        economy\n",
      "704  앵커 더불어 민주당 이낙연 대표 가 오늘 일변 창흠 국토부 장관 을 불러 강하게질 ...       politics        society\n",
      "713  경 기 고양시 는 행주산성 일대 에 대해 시민 이안전 하고 편리하게 즐길수있는 무장...        economy        society\n",
      "726  조국 전 법무부 장관 연합뉴스 조국 전 법무부 장관 이 과거 트위터 에 올린 게시 ...       politics        society\n",
      "728  내 년월 에 유럽 최대 의 온라인 패션 쇼핑몰 잘란 도의 최고경영자 에서 물러나겠다...  international             it\n",
      "739  서 울 뉴시스 일 본 양대 항공사 인 전일본공수 나 일본항공 의합 병설 이 제기 되...  international        economy\n",
      "742  서울 에서 신종 코로나바이러스 감염증 코로나 확산 이 이어지고있다 서울 의 코로나 ...        economy        society\n",
      "749  여자 프로배구 선수 가 중학교 시절 학교폭력 을 행사 했다는 주장 이 제기 돼 온라...        society          sport\n",
      "750  코로나 종합 상 황실 방문 한 김 하 용의 장 오른쪽 에서 세번 째 경남 도 의회 ...        economy       politics\n",
      "752   한 일 천주교 계 오염수 방류 반대 일본정부 가 후쿠시마 원전 에 쌓인 방사능오염...        culture        society\n",
      "756  내년 부터 명 이상백 명미 만의 중소기업 에 도주 시간제 가 본격 적 으로 시행 됩...        economy        society\n",
      "757  정부 가 내 년월 부터 인 이상 중소기업 을 대상 으로 주최 대 시간 근로 시간제 ...        economy        society\n",
      "766  행정안전부 와 인천광역시 경찰청 은 신고 데이터 신용카드 이용 데이터 등 을 결합 ...             it        society\n",
      "773  년 부터는 자율 주행 기술 로 자동차 를 운행 시 핸들 을 잡지 않고도 운전 을 할...        economy             it\n",
      "783  홍준표 전 자유 한국 당 대표 가 무기 력 한 야당 을 대신해 투쟁 하고 있다며 윤...       politics        society\n",
      "796  새해 부터 콜라 등 소비자 가 많이 찾는 음료수 가격 이 줄줄이 오른다 일 식품 업...        economy        society\n",
      "799   수도권 에 거주 하 는 대 여성 씨 는 지난해 상반기 분양 주택 에 당첨 됐다 하...        economy        society\n",
      "804  한 국선 적 의 유조선 한 척 이 사우디아라비아 에서 아랍에미리트 연합 으로 향 하...       politics  international\n",
      "805  약 년 개 월앞 으로 다가온 차기 대선 에서 여당 심판 론 에 공감 하 는 비중 이...        culture       politics\n",
      "821  텔레콤 은 크리스마스 를 맞아 주니어 폰 갤럭시 예약 고객 을 대상 으로 일산 타 ...        economy        society\n",
      "824  윤여정 이영국 아카데미 시상식 에서 한국 배우 최초 로 수상하면서 한국 영화사 에 ...      entertain  international\n",
      "829  배우 윤여정 이영화 미나리 로 연기상 통산 관왕 을 기록 했습니다 배급사 판 씨 네...        culture  international\n",
      "837  조 바이든 미국 대통령 이 에너지 솔루션 과 이노베이션 의 막판 합의 에 미국 노동...  international        economy\n",
      "843  홍은 아 이화여대 교수 가대 한 축구 협회 최초 의 여성 부회장 으로 임명 됐다 는...          sport        economy\n",
      "850  조 바이든 미국 행정부 가 대북 협상 과 관련 해 북핵 의 단계 적 인 폐기 목표 ...  international       politics\n",
      "887  김정현 조종 논란 에 휩싸인 서예지 가 결국 예정 된 일정 에 불참 한 다 영화 내...        culture      entertain\n",
      "891  중국 법원 이 신장위구르자치구 내 이슬람교 를 믿는 위구르족 의 인권 문제 를 제 ...        society  international\n",
      "897  개성 공 단 입 주 기업 들 이 폐쇄 주년 을 맞아 공 단재 개 와 지원 책 마련 ...        economy       politics\n",
      "912  월 부터 본인 의 휴대전화 통화 내 역 열람 기한 이개 월 에서 년 으로 늘어난다 ...       politics        society\n",
      "922  강성 국 법무부 법무 실장 세계 은행 이평 가하는 기업 환경 지수 를 토대 로 각국...        society       politics\n",
      "926  박범계 법무부 장관 후보자 가 지난 일 서초동 서울 고 검 에 마련 된 인사청문회 ...       politics        society\n",
      "937  일 본 수도권 일부 지역 에 신종 코로나바이러스 감염증 코로나 긴급 사태 가 발령 ...        society  international\n",
      "939  문재인 캐리커처 문재인 얼굴 대통령 은 일 기소권 과 수사권 분리 는 앞 으로도 꾸...       politics        society\n",
      "940  서 울 뉴시스 중국 외교부 가중 국판 백 신여 권 에 대해 추가 적 인 설명 을 내...  international       politics\n"
     ]
    }
   ],
   "source": [
    "pred = model_cls.predict(test_tfidfm).argmax(axis=1)\n",
    "df_test['pred'] = label_encoder.sequences_to_texts(pred.reshape(-1, 1))\n",
    "print(df_test[df_test['label'] != df_test['pred']])"
   ]
  },
  {
   "cell_type": "code",
   "execution_count": null,
   "id": "454b4413",
   "metadata": {},
   "outputs": [],
   "source": []
  }
 ],
 "metadata": {
  "kernelspec": {
   "display_name": "nlp",
   "language": "python",
   "name": "nlp"
  },
  "language_info": {
   "codemirror_mode": {
    "name": "ipython",
    "version": 3
   },
   "file_extension": ".py",
   "mimetype": "text/x-python",
   "name": "python",
   "nbconvert_exporter": "python",
   "pygments_lexer": "ipython3",
   "version": "3.8.13"
  }
 },
 "nbformat": 4,
 "nbformat_minor": 5
}
