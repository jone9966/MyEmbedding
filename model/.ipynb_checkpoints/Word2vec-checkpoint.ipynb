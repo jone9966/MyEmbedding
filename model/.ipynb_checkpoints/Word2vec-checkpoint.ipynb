{
 "cells": [
  {
   "cell_type": "code",
   "execution_count": 1,
   "metadata": {
    "executionInfo": {
     "elapsed": 1018,
     "status": "ok",
     "timestamp": 1657512033833,
     "user": {
      "displayName": "정장일",
      "userId": "01548812619845711165"
     },
     "user_tz": -540
    },
    "id": "h5PHSpBZ6k4t"
   },
   "outputs": [],
   "source": [
    "import numpy as np\n",
    "import pandas as pd\n",
    "import tensorflow as tf"
   ]
  },
  {
   "cell_type": "code",
   "execution_count": 2,
   "metadata": {},
   "outputs": [],
   "source": [
    "pd.set_option('display.max_columns', None)\n",
    "pd.set_option('display.max_rows', None)\n",
    "pd.set_option('display.max_colwidth', 50)\n",
    "pd.set_option('display.width', 1000)"
   ]
  },
  {
   "cell_type": "code",
   "execution_count": 3,
   "metadata": {},
   "outputs": [
    {
     "data": {
      "text/html": [
       "<div>\n",
       "<style scoped>\n",
       "    .dataframe tbody tr th:only-of-type {\n",
       "        vertical-align: middle;\n",
       "    }\n",
       "\n",
       "    .dataframe tbody tr th {\n",
       "        vertical-align: top;\n",
       "    }\n",
       "\n",
       "    .dataframe thead th {\n",
       "        text-align: right;\n",
       "    }\n",
       "</style>\n",
       "<table border=\"1\" class=\"dataframe\">\n",
       "  <thead>\n",
       "    <tr style=\"text-align: right;\">\n",
       "      <th></th>\n",
       "      <th>text</th>\n",
       "      <th>label</th>\n",
       "    </tr>\n",
       "  </thead>\n",
       "  <tbody>\n",
       "    <tr>\n",
       "      <th>0</th>\n",
       "      <td>앵커 애틀랜타 총격 사건 으로 미국시민 들 은 또한 번 거리 로 나왔습니다 슬프고 ...</td>\n",
       "      <td>international</td>\n",
       "    </tr>\n",
       "    <tr>\n",
       "      <th>1</th>\n",
       "      <td>앵커 이번 사건 에서 희생 된한 인명 의 신원 이 사흘 만에 공개 됐습니다 유가족 ...</td>\n",
       "      <td>international</td>\n",
       "    </tr>\n",
       "    <tr>\n",
       "      <th>2</th>\n",
       "      <td>일오 전시 부터 버팀목 자금 을 통해 짝수 소 상공 인들 로부터 버팀목 자금 신청 ...</td>\n",
       "      <td>economy</td>\n",
       "    </tr>\n",
       "    <tr>\n",
       "      <th>3</th>\n",
       "      <td>일 오후 서울 황학동 중앙시장 중 고 가전제품 판매점 에 진열 된에서 문재인 대통령...</td>\n",
       "      <td>economy</td>\n",
       "    </tr>\n",
       "    <tr>\n",
       "      <th>4</th>\n",
       "      <td>실종 주 째 고양시 발달장애 인 점퍼 한 강서 발견 경기 고양시 행주산성 둘레길 에...</td>\n",
       "      <td>society</td>\n",
       "    </tr>\n",
       "  </tbody>\n",
       "</table>\n",
       "</div>"
      ],
      "text/plain": [
       "                                                text          label\n",
       "0  앵커 애틀랜타 총격 사건 으로 미국시민 들 은 또한 번 거리 로 나왔습니다 슬프고 ...  international\n",
       "1  앵커 이번 사건 에서 희생 된한 인명 의 신원 이 사흘 만에 공개 됐습니다 유가족 ...  international\n",
       "2  일오 전시 부터 버팀목 자금 을 통해 짝수 소 상공 인들 로부터 버팀목 자금 신청 ...        economy\n",
       "3  일 오후 서울 황학동 중앙시장 중 고 가전제품 판매점 에 진열 된에서 문재인 대통령...        economy\n",
       "4  실종 주 째 고양시 발달장애 인 점퍼 한 강서 발견 경기 고양시 행주산성 둘레길 에...        society"
      ]
     },
     "execution_count": 3,
     "metadata": {},
     "output_type": "execute_result"
    }
   ],
   "source": [
    "df = pd.read_csv(\"/Users/zum/Dev/Dataset/train_category.csv\")\n",
    "df.head()"
   ]
  },
  {
   "cell_type": "code",
   "execution_count": 4,
   "metadata": {},
   "outputs": [
    {
     "name": "stdout",
     "output_type": "stream",
     "text": [
      "{'society': 1, 'politics': 2, 'international': 3, 'economy': 4, 'sport': 5, 'entertain': 6, 'it': 7, 'culture': 8}\n"
     ]
    }
   ],
   "source": [
    "from tensorflow.keras.preprocessing.text import Tokenizer\n",
    "from tensorflow.keras.utils import to_categorical\n",
    "\n",
    "label_encoder = Tokenizer()\n",
    "label_encoder.fit_on_texts(df['label'])\n",
    "label = np.array(label_encoder.texts_to_sequences(df['label'])) - 1\n",
    "label = to_categorical(label)\n",
    "category = label_encoder.word_index\n",
    "print(category)"
   ]
  },
  {
   "cell_type": "code",
   "execution_count": 5,
   "metadata": {},
   "outputs": [
    {
     "name": "stdout",
     "output_type": "stream",
     "text": [
      "53370\n"
     ]
    }
   ],
   "source": [
    "from tensorflow.keras.preprocessing.text import Tokenizer\n",
    "\n",
    "tokenizer = Tokenizer()\n",
    "tokenizer.fit_on_texts(df['text'])\n",
    "vocab = tokenizer.word_index\n",
    "vocab_size = len(vocab) + 1\n",
    "tokens = tokenizer.texts_to_sequences(df['text'])\n",
    "print(vocab_size)"
   ]
  },
  {
   "cell_type": "code",
   "execution_count": 6,
   "metadata": {},
   "outputs": [
    {
     "name": "stdout",
     "output_type": "stream",
     "text": [
      "(2196, 1646)\n"
     ]
    }
   ],
   "source": [
    "from tensorflow.keras.preprocessing.sequence import pad_sequences\n",
    "\n",
    "max_len = max(len(l) for l in tokens)\n",
    "tokens_pad = pad_sequences(tokens, maxlen=max_len, padding='post')\n",
    "print(tokens_pad.shape)"
   ]
  },
  {
   "cell_type": "code",
   "execution_count": 7,
   "metadata": {},
   "outputs": [
    {
     "name": "stdout",
     "output_type": "stream",
     "text": [
      "(1756, 1646) (440, 1646) (1756, 8) (440, 8)\n"
     ]
    }
   ],
   "source": [
    "from sklearn.model_selection import train_test_split\n",
    "\n",
    "X_train, X_test, Y_train, Y_test = train_test_split(tokens_pad, label, test_size=0.2, random_state=0)\n",
    "print(X_train.shape, X_test.shape, Y_train.shape, Y_test.shape)"
   ]
  },
  {
   "cell_type": "code",
   "execution_count": 8,
   "metadata": {},
   "outputs": [],
   "source": [
    "import gensim\n",
    "\n",
    "pretrain_model = gensim.models.Word2Vec.load(\"/Users/zum/Dev/nlp/model/ko.bin\")"
   ]
  },
  {
   "cell_type": "code",
   "execution_count": 9,
   "metadata": {},
   "outputs": [
    {
     "name": "stdout",
     "output_type": "stream",
     "text": [
      "(53370, 200)\n"
     ]
    }
   ],
   "source": [
    "embedding_matrix = np.zeros((vocab_size, 200))\n",
    "for word, index in vocab.items():\n",
    "    if word in pretrain_model.wv:\n",
    "        embedding_matrix[index] = pretrain_model.wv[word]\n",
    "print(embedding_matrix.shape)"
   ]
  },
  {
   "cell_type": "code",
   "execution_count": 10,
   "metadata": {},
   "outputs": [
    {
     "name": "stdout",
     "output_type": "stream",
     "text": [
      "Metal device set to: Apple M1 Pro\n"
     ]
    },
    {
     "name": "stderr",
     "output_type": "stream",
     "text": [
      "2022-07-13 11:01:31.188329: I tensorflow/core/common_runtime/pluggable_device/pluggable_device_factory.cc:305] Could not identify NUMA node of platform GPU ID 0, defaulting to 0. Your kernel may not have been built with NUMA support.\n",
      "2022-07-13 11:01:31.188477: I tensorflow/core/common_runtime/pluggable_device/pluggable_device_factory.cc:271] Created TensorFlow device (/job:localhost/replica:0/task:0/device:GPU:0 with 0 MB memory) -> physical PluggableDevice (device: 0, name: METAL, pci bus id: <undefined>)\n"
     ]
    },
    {
     "name": "stdout",
     "output_type": "stream",
     "text": [
      "Model: \"sequential\"\n",
      "_________________________________________________________________\n",
      " Layer (type)                Output Shape              Param #   \n",
      "=================================================================\n",
      " embedding (Embedding)       (None, 1646, 200)         10674000  \n",
      "                                                                 \n",
      " bidirectional (Bidirectiona  (None, 240)              231840    \n",
      " l)                                                              \n",
      "                                                                 \n",
      " dense (Dense)               (None, 128)               30848     \n",
      "                                                                 \n",
      " dense_1 (Dense)             (None, 8)                 1032      \n",
      "                                                                 \n",
      "=================================================================\n",
      "Total params: 10,937,720\n",
      "Trainable params: 263,720\n",
      "Non-trainable params: 10,674,000\n",
      "_________________________________________________________________\n"
     ]
    }
   ],
   "source": [
    "model_cls = tf.keras.Sequential([\n",
    "    tf.keras.layers.Embedding(vocab_size, 200, weights=[embedding_matrix], input_length=max_len, trainable=False),\n",
    "    tf.keras.layers.Bidirectional(tf.keras.layers.GRU(120)),\n",
    "    tf.keras.layers.Dense(128, activation='relu'),\n",
    "    tf.keras.layers.Dense(len(category), activation='softmax')\n",
    "])\n",
    "\n",
    "model_cls.compile(loss='categorical_crossentropy',\n",
    "                 optimizer='adam',\n",
    "                 metrics=['accuracy'])\n",
    "model_cls.summary()"
   ]
  },
  {
   "cell_type": "code",
   "execution_count": 11,
   "metadata": {},
   "outputs": [
    {
     "name": "stdout",
     "output_type": "stream",
     "text": [
      "Epoch 1/15\n"
     ]
    },
    {
     "name": "stderr",
     "output_type": "stream",
     "text": [
      "2022-07-13 11:01:31.508209: W tensorflow/core/platform/profile_utils/cpu_utils.cc:128] Failed to get CPU frequency: 0 Hz\n",
      "2022-07-13 11:01:32.715880: I tensorflow/core/grappler/optimizers/custom_graph_optimizer_registry.cc:113] Plugin optimizer for device_type GPU is enabled.\n",
      "2022-07-13 11:01:32.898668: I tensorflow/core/grappler/optimizers/custom_graph_optimizer_registry.cc:113] Plugin optimizer for device_type GPU is enabled.\n",
      "2022-07-13 11:01:32.915741: I tensorflow/core/grappler/optimizers/custom_graph_optimizer_registry.cc:113] Plugin optimizer for device_type GPU is enabled.\n",
      "2022-07-13 11:01:49.189416: I tensorflow/core/grappler/optimizers/custom_graph_optimizer_registry.cc:113] Plugin optimizer for device_type GPU is enabled.\n",
      "2022-07-13 11:01:49.206707: I tensorflow/core/grappler/optimizers/custom_graph_optimizer_registry.cc:113] Plugin optimizer for device_type GPU is enabled.\n"
     ]
    },
    {
     "name": "stdout",
     "output_type": "stream",
     "text": [
      "14/14 [==============================] - ETA: 0s - loss: 1.7803 - accuracy: 0.3867"
     ]
    },
    {
     "name": "stderr",
     "output_type": "stream",
     "text": [
      "2022-07-13 11:02:57.012628: I tensorflow/core/grappler/optimizers/custom_graph_optimizer_registry.cc:113] Plugin optimizer for device_type GPU is enabled.\n",
      "2022-07-13 11:02:57.082192: I tensorflow/core/grappler/optimizers/custom_graph_optimizer_registry.cc:113] Plugin optimizer for device_type GPU is enabled.\n",
      "2022-07-13 11:02:57.099365: I tensorflow/core/grappler/optimizers/custom_graph_optimizer_registry.cc:113] Plugin optimizer for device_type GPU is enabled.\n"
     ]
    },
    {
     "name": "stdout",
     "output_type": "stream",
     "text": [
      "14/14 [==============================] - 119s 6s/step - loss: 1.7803 - accuracy: 0.3867 - val_loss: 1.5338 - val_accuracy: 0.4523\n",
      "Epoch 2/15\n",
      "14/14 [==============================] - 16s 1s/step - loss: 1.2680 - accuracy: 0.5718 - val_loss: 1.2816 - val_accuracy: 0.5841\n",
      "Epoch 3/15\n",
      "14/14 [==============================] - 16s 1s/step - loss: 1.0069 - accuracy: 0.6817 - val_loss: 1.1187 - val_accuracy: 0.6364\n",
      "Epoch 4/15\n",
      "14/14 [==============================] - 15s 1s/step - loss: 0.8013 - accuracy: 0.7329 - val_loss: 0.9609 - val_accuracy: 0.6750\n",
      "Epoch 5/15\n",
      "14/14 [==============================] - 15s 1s/step - loss: 0.6149 - accuracy: 0.8064 - val_loss: 0.8514 - val_accuracy: 0.7227\n",
      "Epoch 6/15\n",
      "14/14 [==============================] - 15s 1s/step - loss: 0.4844 - accuracy: 0.8474 - val_loss: 0.7898 - val_accuracy: 0.7386\n",
      "Epoch 7/15\n",
      "14/14 [==============================] - 16s 1s/step - loss: 0.3746 - accuracy: 0.8815 - val_loss: 0.7890 - val_accuracy: 0.7273\n",
      "Epoch 8/15\n",
      "14/14 [==============================] - 15s 1s/step - loss: 0.2956 - accuracy: 0.9083 - val_loss: 0.7563 - val_accuracy: 0.7364\n",
      "Epoch 9/15\n",
      "14/14 [==============================] - 16s 1s/step - loss: 0.2215 - accuracy: 0.9368 - val_loss: 0.7471 - val_accuracy: 0.7545\n",
      "Epoch 10/15\n",
      "14/14 [==============================] - 16s 1s/step - loss: 0.1571 - accuracy: 0.9596 - val_loss: 0.7350 - val_accuracy: 0.7750\n",
      "Epoch 11/15\n",
      "14/14 [==============================] - 16s 1s/step - loss: 0.1221 - accuracy: 0.9704 - val_loss: 0.7628 - val_accuracy: 0.7705\n",
      "Epoch 12/15\n",
      "14/14 [==============================] - 16s 1s/step - loss: 0.0923 - accuracy: 0.9801 - val_loss: 0.7781 - val_accuracy: 0.7636\n",
      "Epoch 13/15\n",
      "14/14 [==============================] - 15s 1s/step - loss: 0.0691 - accuracy: 0.9863 - val_loss: 0.8148 - val_accuracy: 0.7932\n",
      "Epoch 14/15\n",
      "14/14 [==============================] - 16s 1s/step - loss: 0.0500 - accuracy: 0.9926 - val_loss: 0.8222 - val_accuracy: 0.7909\n",
      "Epoch 15/15\n",
      "14/14 [==============================] - 16s 1s/step - loss: 0.0368 - accuracy: 0.9954 - val_loss: 0.8673 - val_accuracy: 0.7773\n"
     ]
    }
   ],
   "source": [
    "history = model_cls.fit(X_train, Y_train, epochs=15, batch_size=128, validation_data=[X_test, Y_test])"
   ]
  },
  {
   "cell_type": "code",
   "execution_count": null,
   "metadata": {},
   "outputs": [],
   "source": []
  }
 ],
 "metadata": {
  "colab": {
   "authorship_tag": "ABX9TyOLzrMF2FQyVvmNVarKl6aB",
   "mount_file_id": "1U7qYhoYN-NA_pOVGoXIqMSyzrTY-GgL6",
   "name": "Embedding.ipynb",
   "provenance": []
  },
  "kernelspec": {
   "display_name": "Python 3 (ipykernel)",
   "language": "python",
   "name": "python3"
  },
  "language_info": {
   "codemirror_mode": {
    "name": "ipython",
    "version": 3
   },
   "file_extension": ".py",
   "mimetype": "text/x-python",
   "name": "python",
   "nbconvert_exporter": "python",
   "pygments_lexer": "ipython3",
   "version": "3.8.13"
  }
 },
 "nbformat": 4,
 "nbformat_minor": 1
}
