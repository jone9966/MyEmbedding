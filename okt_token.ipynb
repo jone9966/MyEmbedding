{
 "cells": [
  {
   "cell_type": "code",
   "execution_count": 1,
   "metadata": {
    "colab": {
     "base_uri": "https://localhost:8080/"
    },
    "executionInfo": {
     "elapsed": 8203,
     "status": "ok",
     "timestamp": 1657505318120,
     "user": {
      "displayName": "정장일",
      "userId": "01548812619845711165"
     },
     "user_tz": -540
    },
    "id": "e7q9xuP4-c2Z",
    "outputId": "5587a2cb-23d0-435f-a016-be87ffcd699e"
   },
   "outputs": [
    {
     "name": "stdout",
     "output_type": "stream",
     "text": [
      "Looking in indexes: https://pypi.org/simple, https://us-python.pkg.dev/colab-wheels/public/simple/\n",
      "Collecting konlpy\n",
      "  Downloading konlpy-0.6.0-py2.py3-none-any.whl (19.4 MB)\n",
      "\u001b[K     |████████████████████████████████| 19.4 MB 1.1 MB/s \n",
      "\u001b[?25hRequirement already satisfied: numpy>=1.6 in /usr/local/lib/python3.7/dist-packages (from konlpy) (1.21.6)\n",
      "Collecting JPype1>=0.7.0\n",
      "  Downloading JPype1-1.4.0-cp37-cp37m-manylinux_2_5_x86_64.manylinux1_x86_64.whl (453 kB)\n",
      "\u001b[K     |████████████████████████████████| 453 kB 57.1 MB/s \n",
      "\u001b[?25hRequirement already satisfied: lxml>=4.1.0 in /usr/local/lib/python3.7/dist-packages (from konlpy) (4.2.6)\n",
      "Requirement already satisfied: typing-extensions in /usr/local/lib/python3.7/dist-packages (from JPype1>=0.7.0->konlpy) (4.1.1)\n",
      "Installing collected packages: JPype1, konlpy\n",
      "Successfully installed JPype1-1.4.0 konlpy-0.6.0\n"
     ]
    }
   ],
   "source": [
    "!pip install konlpy"
   ]
  },
  {
   "cell_type": "code",
   "execution_count": 5,
   "metadata": {
    "executionInfo": {
     "elapsed": 1018,
     "status": "ok",
     "timestamp": 1657512033833,
     "user": {
      "displayName": "정장일",
      "userId": "01548812619845711165"
     },
     "user_tz": -540
    },
    "id": "h5PHSpBZ6k4t"
   },
   "outputs": [],
   "source": [
    "import csv, sys, re\n",
    "from tqdm import tqdm\n",
    "import numpy as np\n",
    "import pandas as pd\n",
    "from konlpy.tag import Okt"
   ]
  },
  {
   "cell_type": "code",
   "execution_count": 3,
   "metadata": {
    "executionInfo": {
     "elapsed": 21960,
     "status": "ok",
     "timestamp": 1657505540806,
     "user": {
      "displayName": "정장일",
      "userId": "01548812619845711165"
     },
     "user_tz": -540
    },
    "id": "Umcurmho7DpQ"
   },
   "outputs": [],
   "source": [
    "csv.field_size_limit(sys.maxsize)\n",
    "df = pd.read_csv('/content/drive/MyDrive/Colab Notebooks/Datasets/kowiki_20220610.csv', sep=u\"\\u241D\", engine=\"python\")"
   ]
  },
  {
   "cell_type": "code",
   "execution_count": 4,
   "metadata": {
    "executionInfo": {
     "elapsed": 1965,
     "status": "ok",
     "timestamp": 1657505542760,
     "user": {
      "displayName": "정장일",
      "userId": "01548812619845711165"
     },
     "user_tz": -540
    },
    "id": "9YW6KNBN-SM-"
   },
   "outputs": [],
   "source": [
    "corpus = df['text'].apply(lambda x: ' '.join(x.split('\\n')[1:]))"
   ]
  },
  {
   "cell_type": "code",
   "execution_count": null,
   "metadata": {
    "id": "dyDmNFWh-r5D"
   },
   "outputs": [],
   "source": [
    "okt = Okt()\n",
    "tokenized = []\n",
    "for text in tqdm(corpus[:1000]):\n",
    "  for line in text.split('.'):\n",
    "    line = re.sub(r'[^가-힣]', '', line)\n",
    "    line = okt.morphs(line)\n",
    "    tokenized.append(line)"
   ]
  }
 ],
 "metadata": {
  "colab": {
   "authorship_tag": "ABX9TyOLzrMF2FQyVvmNVarKl6aB",
   "mount_file_id": "1U7qYhoYN-NA_pOVGoXIqMSyzrTY-GgL6",
   "name": "Embedding.ipynb",
   "provenance": []
  },
  "kernelspec": {
   "display_name": "Python 3 (ipykernel)",
   "language": "python",
   "name": "python3"
  },
  "language_info": {
   "codemirror_mode": {
    "name": "ipython",
    "version": 3
   },
   "file_extension": ".py",
   "mimetype": "text/x-python",
   "name": "python",
   "nbconvert_exporter": "python",
   "pygments_lexer": "ipython3",
   "version": "3.8.13"
  }
 },
 "nbformat": 4,
 "nbformat_minor": 1
}
