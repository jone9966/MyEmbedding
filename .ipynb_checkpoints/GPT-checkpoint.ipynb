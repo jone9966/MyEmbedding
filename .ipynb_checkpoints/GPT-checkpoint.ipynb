{
  "nbformat": 4,
  "nbformat_minor": 0,
  "metadata": {
    "colab": {
      "name": "GPT.ipynb",
      "provenance": []
    },
    "kernelspec": {
      "name": "python3",
      "display_name": "Python 3"
    },
    "language_info": {
      "name": "python"
    },
    "accelerator": "GPU",
    "gpuClass": "standard"
  },
  "cells": [
    {
      "cell_type": "code",
      "source": [
        "!pip install transformers"
      ],
      "metadata": {
        "id": "VnJmT5zPhvB3"
      },
      "execution_count": null,
      "outputs": []
    },
    {
      "cell_type": "code",
      "source": [
        "from google.colab import drive\n",
        "drive.mount('/content/drive')"
      ],
      "metadata": {
        "id": "9hSiUogehwij"
      },
      "execution_count": null,
      "outputs": []
    },
    {
      "cell_type": "code",
      "execution_count": 15,
      "metadata": {
        "colab": {
          "base_uri": "https://localhost:8080/"
        },
        "id": "VCeiP2MUfX1_",
        "outputId": "fa51ff58-e54d-4177-a1ff-92fce97b6816"
      },
      "outputs": [
        {
          "output_type": "stream",
          "name": "stderr",
          "text": [
            "The tokenizer class you load from this checkpoint is not the same type as the class this function is called from. It may result in unexpected tokenization. \n",
            "The tokenizer class you load from this checkpoint is 'GPT2Tokenizer'. \n",
            "The class this function is called from is 'PreTrainedTokenizerFast'.\n"
          ]
        }
      ],
      "source": [
        "import torch\n",
        "from transformers import PreTrainedTokenizerFast, GPT2LMHeadModel\n",
        "tokenizer = PreTrainedTokenizerFast.from_pretrained(\"skt/kogpt2-base-v2\",\n",
        "                                                    bost_token='</s>', eos_token='</s>', unk_token='<unk>',\n",
        "                                                    pad_token='<pad>', mask_token='<mask>')\n",
        "gpt = GPT2LMHeadModel.from_pretrained('skt/kogpt2-base-v2')"
      ]
    },
    {
      "cell_type": "code",
      "source": [
        "import re\n",
        "import numpy as np\n",
        "import pandas as pd\n",
        "from tqdm import tqdm\n",
        "\n",
        "import torch\n",
        "import torch.nn as nn\n",
        "from torch.utils.data import Dataset, DataLoader\n",
        "from transformers import  BertTokenizer\n",
        "\n",
        "class GPTDataset(Dataset):\n",
        "    def __init__(self, tokenizer, corpus, labels, maxlen=128):\n",
        "        super(GPTDataset, self).__init__()\n",
        "        self.tokenizer = tokenizer\n",
        "        self.maxlen = maxlen\n",
        "        self.inputs = [self.tokenize(text) for text in corpus]\n",
        "        self.labels = [np.array(label) for label in labels]\n",
        "\n",
        "    def tokenize(self, data):\n",
        "        data = self.tokenizer(data, max_length=self.maxlen, padding=\"max_length\", truncation=True,)\n",
        "        return np.array(data['input_ids']), np.array(data['token_type_ids']), np.array(data['attention_mask'])\n",
        "\n",
        "    def __len__(self):\n",
        "        return len(self.labels)\n",
        "\n",
        "    def __getitem__(self, idx):\n",
        "        return self.inputs[idx], self.labels[idx]"
      ],
      "metadata": {
        "id": "qjdfMCkFibdp"
      },
      "execution_count": 16,
      "outputs": []
    },
    {
      "cell_type": "code",
      "source": [
        "import torch\n",
        "import torch.nn as nn\n",
        "from transformers import BertModel\n",
        "\n",
        "\n",
        "class GPTClassifier(nn.Module):\n",
        "    def __init__(self, gpt, hidden_size, max_len, num_classes):\n",
        "        super(GPTClassifier, self).__init__()\n",
        "        self.gpt = gpt\n",
        "        self.classifier = nn.Linear(hidden_size * max_len, num_classes)\n",
        "\n",
        "    def forward(self, input_ids, attention_mask):\n",
        "        pooler = gpt(input_ids=input_ids, attention_mask=attention_mask, output_hidden_states=True)\n",
        "        output = pooler['hidden_states'][-1]\n",
        "        batch_size = output.shape[0]\n",
        "        output = self.classifier(output.reshape(batch_size, -1))\n",
        "        return output"
      ],
      "metadata": {
        "id": "EDtmJ-n9ikuo"
      },
      "execution_count": 17,
      "outputs": []
    },
    {
      "cell_type": "code",
      "source": [
        "from tensorflow.keras.utils import to_categorical\n",
        "from sklearn.preprocessing import LabelEncoder\n",
        "\n",
        "\n",
        "max_len = 256\n",
        "batch_size = 4\n",
        "warmup_ratio = 0.1\n",
        "num_epochs = 8\n",
        "max_grad_norm = 1\n",
        "learning_rate = 5e-5\n",
        "\n",
        "df = pd.read_csv('/content/drive/MyDrive/NLP/Datasets/newszum_train_data.csv')\n",
        "corpus = [t for t in df['cleanBody']]\n",
        "label = to_categorical(LabelEncoder().fit_transform(df['category']))\n",
        "\n",
        "train_dataset = GPTDataset(tokenizer, corpus, label, maxlen=max_len)\n",
        "train_dataloader = DataLoader(train_dataset, batch_size=batch_size, num_workers=2, shuffle=True)"
      ],
      "metadata": {
        "id": "GYKppJJMiwXF"
      },
      "execution_count": 18,
      "outputs": []
    },
    {
      "cell_type": "code",
      "source": [
        "from transformers.optimization import get_cosine_schedule_with_warmup\n",
        "\n",
        "device = torch.device(\"cuda:0\" if torch.cuda.is_available() else 'cpu')\n",
        "model = GPTClassifier(gpt, hidden_size=768, max_len=max_len, num_classes=8)\n",
        "model.to(device)\n",
        "\n",
        "no_decay = ['bias', 'LayerNorm.weight']\n",
        "optimizer_grouped_parameters = [\n",
        "    {'params': [p for n, p in model.named_parameters() if not any(nd in n for nd in no_decay)], 'weight_decay': 0.01},\n",
        "    {'params': [p for n, p in model.named_parameters() if any(nd in n for nd in no_decay)], 'weight_decay': 0.0}]\n",
        "optimizer = torch.optim.AdamW(optimizer_grouped_parameters, lr=learning_rate)\n",
        "loss_fn = nn.CrossEntropyLoss()\n",
        "\n",
        "t_total = len(train_dataloader) * num_epochs\n",
        "warmup_step = int(t_total * warmup_ratio)\n",
        "scheduler = get_cosine_schedule_with_warmup(optimizer, num_warmup_steps=warmup_step, num_training_steps=t_total)"
      ],
      "metadata": {
        "id": "4RBg0XBTi7kc"
      },
      "execution_count": 21,
      "outputs": []
    },
    {
      "cell_type": "code",
      "source": [
        "losses = []\n",
        "for epoch in range(num_epochs):\n",
        "    model.train()\n",
        "    for batch_id, (inputs, label) in enumerate(tqdm(train_dataloader, ncols=0)):\n",
        "        input_ids = inputs[0].long().to(device)\n",
        "        attention_mask = inputs[2].long().to(device)\n",
        "        label = label.to(device)\n",
        "\n",
        "        optimizer.zero_grad()\n",
        "        out = model(input_ids, attention_mask)\n",
        "        loss = loss_fn(out, label)\n",
        "        loss.backward()\n",
        "        losses.append(loss.item())\n",
        "\n",
        "        torch.nn.utils.clip_grad_norm_(model.parameters(), max_grad_norm)\n",
        "        optimizer.step()\n",
        "        scheduler.step()\n",
        "    print(sum(losses)/len(losses))\n",
        "    state = {'Epoch': epoch,\n",
        "             'State_dict': model.state_dict(),\n",
        "             'Optimizer': optimizer.state_dict()}"
      ],
      "metadata": {
        "colab": {
          "base_uri": "https://localhost:8080/"
        },
        "id": "Br8KByxpjF0p",
        "outputId": "965eb5ae-34dd-4123-c4b5-00afb37aaf06"
      },
      "execution_count": 22,
      "outputs": [
        {
          "output_type": "stream",
          "name": "stderr",
          "text": [
            "100% 549/549 [02:37<00:00,  3.49it/s]\n"
          ]
        },
        {
          "output_type": "stream",
          "name": "stdout",
          "text": [
            "1.7162106092537694\n"
          ]
        },
        {
          "output_type": "stream",
          "name": "stderr",
          "text": [
            "100% 549/549 [02:36<00:00,  3.50it/s]\n"
          ]
        },
        {
          "output_type": "stream",
          "name": "stdout",
          "text": [
            "1.2375188398678336\n"
          ]
        },
        {
          "output_type": "stream",
          "name": "stderr",
          "text": [
            "100% 549/549 [02:36<00:00,  3.50it/s]\n"
          ]
        },
        {
          "output_type": "stream",
          "name": "stdout",
          "text": [
            "0.9048383548694394\n"
          ]
        },
        {
          "output_type": "stream",
          "name": "stderr",
          "text": [
            "100% 549/549 [02:36<00:00,  3.50it/s]\n"
          ]
        },
        {
          "output_type": "stream",
          "name": "stdout",
          "text": [
            "0.6910911372369295\n"
          ]
        },
        {
          "output_type": "stream",
          "name": "stderr",
          "text": [
            "100% 549/549 [02:36<00:00,  3.50it/s]\n"
          ]
        },
        {
          "output_type": "stream",
          "name": "stdout",
          "text": [
            "0.5562912763180734\n"
          ]
        },
        {
          "output_type": "stream",
          "name": "stderr",
          "text": [
            "100% 549/549 [02:36<00:00,  3.50it/s]\n"
          ]
        },
        {
          "output_type": "stream",
          "name": "stdout",
          "text": [
            "0.4636099520678077\n"
          ]
        },
        {
          "output_type": "stream",
          "name": "stderr",
          "text": [
            "100% 549/549 [02:36<00:00,  3.51it/s]\n"
          ]
        },
        {
          "output_type": "stream",
          "name": "stdout",
          "text": [
            "0.39738057201834776\n"
          ]
        },
        {
          "output_type": "stream",
          "name": "stderr",
          "text": [
            "100% 549/549 [02:36<00:00,  3.50it/s]"
          ]
        },
        {
          "output_type": "stream",
          "name": "stdout",
          "text": [
            "0.3477080187756477\n"
          ]
        },
        {
          "output_type": "stream",
          "name": "stderr",
          "text": [
            "\n"
          ]
        }
      ]
    },
    {
      "cell_type": "code",
      "source": [
        "df_test = pd.read_csv('/content/drive/MyDrive/NLP/Datasets/newszum_test_data.csv')\n",
        "test_corpus = [t for t in df_test['cleanBody']]\n",
        "test_label = to_categorical(LabelEncoder().fit_transform(df_test['category']))\n",
        "\n",
        "test_dataset = GPTDataset(tokenizer, test_corpus, test_label, maxlen=max_len)\n",
        "test_dataloader = DataLoader(test_dataset, batch_size=1, num_workers=2, shuffle=False)"
      ],
      "metadata": {
        "id": "SX8tHekCjVFf"
      },
      "execution_count": 23,
      "outputs": []
    },
    {
      "cell_type": "code",
      "source": [
        "model.eval()\n",
        "fail = []\n",
        "with torch.no_grad():\n",
        "    for idx, (inputs, label) in enumerate(tqdm(test_dataloader, ncols=0)):\n",
        "        input_ids = inputs[0].long().to(device)\n",
        "        attention_mask = inputs[2].long().to(device)\n",
        "\n",
        "        out = model(input_ids, attention_mask)\n",
        "        pred = np.argmax(out.cpu().detach().numpy(), axis=1)[0]\n",
        "\n",
        "        if pred != np.argmax(label.numpy()):\n",
        "          fail.append(idx)"
      ],
      "metadata": {
        "colab": {
          "base_uri": "https://localhost:8080/"
        },
        "id": "uLSxvua4oPl_",
        "outputId": "29b1a4ec-3c23-490d-e7ae-077d563a1490"
      },
      "execution_count": 24,
      "outputs": [
        {
          "output_type": "stream",
          "name": "stderr",
          "text": [
            "100% 942/942 [00:23<00:00, 39.52it/s]\n"
          ]
        }
      ]
    },
    {
      "cell_type": "code",
      "source": [
        "print(len(fail)/len(test_dataset))"
      ],
      "metadata": {
        "colab": {
          "base_uri": "https://localhost:8080/"
        },
        "id": "yhiVnJW8oV-G",
        "outputId": "34ef8310-e8bd-4d65-c759-e0f2c2077858"
      },
      "execution_count": 25,
      "outputs": [
        {
          "output_type": "stream",
          "name": "stdout",
          "text": [
            "0.12208067940552017\n"
          ]
        }
      ]
    },
    {
      "cell_type": "code",
      "source": [
        ""
      ],
      "metadata": {
        "id": "_cpK7FWD0Y4K"
      },
      "execution_count": null,
      "outputs": []
    }
  ]
}